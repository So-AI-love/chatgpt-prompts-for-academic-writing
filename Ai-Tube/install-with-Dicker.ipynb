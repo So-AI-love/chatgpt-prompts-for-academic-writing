{
  "cells": [
    {
      "cell_type": "markdown",
      "metadata": {
        "id": "view-in-github",
        "colab_type": "text"
      },
      "source": [
        "<a href=\"https://colab.research.google.com/github/So-AI-love/chatgpt-prompts-for-academic-writing/blob/main/Ai-Tube/install-with-Dicker.ipynb\" target=\"_parent\"><img src=\"https://colab.research.google.com/assets/colab-badge.svg\" alt=\"Open In Colab\"/></a>"
      ]
    },
    {
      "cell_type": "markdown",
      "metadata": {
        "id": "iGVKFMwomkk0"
      },
      "source": [
        "# A Whirlwind tour of Docker"
      ]
    },
    {
      "cell_type": "code",
      "source": [
        "# First let's update all the packages to the latest ones with the following command\n",
        "!sudo apt update -qq\n",
        "\n",
        "# Now we want to install some prerequisite packages which will let us use HTTPS over apt\n",
        "!sudo apt install apt-transport-https ca-certificates curl software-properties-common -qq\n",
        "\n",
        "# After that we will add the GPG key for the official Docker repository to the system\n",
        "!curl -fsSL https://download.docker.com/linux/ubuntu/gpg | sudo apt-key add -\n",
        "\n",
        "# We will add the Docker repository to our APT sources\n",
        "!sudo add-apt-repository  -y \"deb [arch=amd64] https://download.docker.com/linux/ubuntu bionic stable\"\n",
        "\n",
        "# Next let's update the package database with our newly added Docker package repo\n",
        "!sudo apt update -qq\n",
        "\n",
        "# Finally lets install docker with the below command\n",
        "!sudo apt install docker-ce\n",
        "\n",
        "# Lets check that docker is running\n",
        "!docker\n",
        "\n",
        "# Originally, we did the following: (but doesn't work in Colab...)\n",
        "# sudo systemctl status docker"
      ],
      "metadata": {
        "id": "VWr53HeYmvom",
        "outputId": "57bbbecb-1b15-44e6-c729-8baaa0dfba47",
        "colab": {
          "base_uri": "https://localhost:8080/"
        }
      },
      "execution_count": null,
      "outputs": [
        {
          "output_type": "stream",
          "name": "stdout",
          "text": [
            "40 packages can be upgraded. Run 'apt list --upgradable' to see them.\n",
            "ca-certificates is already the newest version (20230311ubuntu0.22.04.1).\n",
            "curl is already the newest version (7.81.0-1ubuntu1.15).\n",
            "software-properties-common is already the newest version (0.99.22.8).\n",
            "apt-transport-https is already the newest version (2.4.11).\n",
            "0 upgraded, 0 newly installed, 0 to remove and 40 not upgraded.\n",
            "Warning: apt-key is deprecated. Manage keyring files in trusted.gpg.d instead (see apt-key(8)).\n",
            "OK\n",
            "Repository: 'deb [arch=amd64] https://download.docker.com/linux/ubuntu bionic stable'\n",
            "Description:\n",
            "Archive for codename: bionic components: stable\n",
            "More info: https://download.docker.com/linux/ubuntu\n",
            "Adding repository.\n",
            "Adding deb entry to /etc/apt/sources.list.d/archive_uri-https_download_docker_com_linux_ubuntu-jammy.list\n",
            "Adding disabled deb-src entry to /etc/apt/sources.list.d/archive_uri-https_download_docker_com_linux_ubuntu-jammy.list\n",
            "Hit:1 https://cloud.r-project.org/bin/linux/ubuntu jammy-cran40/ InRelease\n",
            "Get:2 https://download.docker.com/linux/ubuntu bionic InRelease [64.4 kB]\n",
            "Hit:3 https://developer.download.nvidia.com/compute/cuda/repos/ubuntu2204/x86_64  InRelease\n",
            "Hit:4 http://security.ubuntu.com/ubuntu jammy-security InRelease\n",
            "Hit:5 http://archive.ubuntu.com/ubuntu jammy InRelease\n",
            "Hit:6 http://archive.ubuntu.com/ubuntu jammy-updates InRelease\n",
            "Hit:7 http://archive.ubuntu.com/ubuntu jammy-backports InRelease\n",
            "Get:8 https://download.docker.com/linux/ubuntu bionic/stable amd64 Packages [46.4 kB]\n",
            "Hit:9 https://ppa.launchpadcontent.net/c2d4u.team/c2d4u4.0+/ubuntu jammy InRelease\n",
            "Hit:10 https://ppa.launchpadcontent.net/deadsnakes/ppa/ubuntu jammy InRelease\n",
            "Hit:11 https://ppa.launchpadcontent.net/graphics-drivers/ppa/ubuntu jammy InRelease\n",
            "Hit:12 https://ppa.launchpadcontent.net/ubuntugis/ppa/ubuntu jammy InRelease\n",
            "Fetched 111 kB in 1s (76.1 kB/s)\n",
            "Reading package lists... Done\n",
            "W: https://download.docker.com/linux/ubuntu/dists/bionic/InRelease: Key is stored in legacy trusted.gpg keyring (/etc/apt/trusted.gpg), see the DEPRECATION section in apt-key(8) for details.\n",
            "40 packages can be upgraded. Run 'apt list --upgradable' to see them.\n",
            "\u001b[1;33mW: \u001b[0mhttps://download.docker.com/linux/ubuntu/dists/bionic/InRelease: Key is stored in legacy trusted.gpg keyring (/etc/apt/trusted.gpg), see the DEPRECATION section in apt-key(8) for details.\u001b[0m\n",
            "Reading package lists... Done\n",
            "Building dependency tree... Done\n",
            "Reading state information... Done\n",
            "The following additional packages will be installed:\n",
            "  apparmor containerd.io docker-buildx-plugin docker-ce-cli\n",
            "  docker-ce-rootless-extras docker-compose-plugin iptables libip6tc2\n",
            "  libnetfilter-conntrack3 libnfnetlink0 libnftnl11 libslirp0 netbase pigz\n",
            "  slirp4netns\n",
            "Suggested packages:\n",
            "  apparmor-profiles-extra apparmor-utils aufs-tools cgroupfs-mount\n",
            "  | cgroup-lite firewalld nftables\n",
            "The following NEW packages will be installed:\n",
            "  apparmor containerd.io docker-buildx-plugin docker-ce docker-ce-cli\n",
            "  docker-ce-rootless-extras docker-compose-plugin iptables libip6tc2\n",
            "  libnetfilter-conntrack3 libnfnetlink0 libnftnl11 libslirp0 netbase pigz\n",
            "  slirp4netns\n",
            "0 upgraded, 16 newly installed, 0 to remove and 40 not upgraded.\n",
            "Need to get 112 MB of archives.\n",
            "After this operation, 407 MB of additional disk space will be used.\n",
            "Get:1 https://download.docker.com/linux/ubuntu bionic/stable amd64 containerd.io amd64 1.6.21-1 [28.3 MB]\n",
            "Get:2 https://download.docker.com/linux/ubuntu bionic/stable amd64 docker-buildx-plugin amd64 0.10.5-1~ubuntu.18.04~bionic [26.1 MB]\n",
            "Get:3 http://archive.ubuntu.com/ubuntu jammy/universe amd64 pigz amd64 2.6-1 [63.6 kB]\n",
            "Get:4 https://download.docker.com/linux/ubuntu bionic/stable amd64 docker-ce-cli amd64 5:24.0.2-1~ubuntu.18.04~bionic [13.3 MB]\n",
            "Get:5 http://archive.ubuntu.com/ubuntu jammy/main amd64 netbase all 6.3 [12.9 kB]\n",
            "Get:6 http://archive.ubuntu.com/ubuntu jammy-updates/main amd64 apparmor amd64 3.0.4-2ubuntu2.3 [595 kB]\n",
            "Get:7 https://download.docker.com/linux/ubuntu bionic/stable amd64 docker-ce amd64 5:24.0.2-1~ubuntu.18.04~bionic [22.9 MB]\n",
            "Get:8 http://archive.ubuntu.com/ubuntu jammy-updates/main amd64 libip6tc2 amd64 1.8.7-1ubuntu5.1 [20.2 kB]\n",
            "Get:9 http://archive.ubuntu.com/ubuntu jammy/main amd64 libnfnetlink0 amd64 1.0.1-3build3 [14.6 kB]\n",
            "Get:10 http://archive.ubuntu.com/ubuntu jammy/main amd64 libnetfilter-conntrack3 amd64 1.0.9-1 [45.3 kB]\n",
            "Get:11 http://archive.ubuntu.com/ubuntu jammy/main amd64 libnftnl11 amd64 1.2.1-1build1 [65.5 kB]\n",
            "Get:12 http://archive.ubuntu.com/ubuntu jammy-updates/main amd64 iptables amd64 1.8.7-1ubuntu5.1 [455 kB]\n",
            "Get:13 http://archive.ubuntu.com/ubuntu jammy/main amd64 libslirp0 amd64 4.6.1-1build1 [61.5 kB]\n",
            "Get:14 http://archive.ubuntu.com/ubuntu jammy/universe amd64 slirp4netns amd64 1.0.1-2 [28.2 kB]\n",
            "Get:15 https://download.docker.com/linux/ubuntu bionic/stable amd64 docker-ce-rootless-extras amd64 5:24.0.2-1~ubuntu.18.04~bionic [9,014 kB]\n",
            "Get:16 https://download.docker.com/linux/ubuntu bionic/stable amd64 docker-compose-plugin amd64 2.18.1-1~ubuntu.18.04~bionic [10.9 MB]\n",
            "Fetched 112 MB in 2s (72.6 MB/s)\n",
            "debconf: unable to initialize frontend: Dialog\n",
            "debconf: (No usable dialog-like program is installed, so the dialog based frontend cannot be used. at /usr/share/perl5/Debconf/FrontEnd/Dialog.pm line 78, <> line 16.)\n",
            "debconf: falling back to frontend: Readline\n",
            "debconf: unable to initialize frontend: Readline\n",
            "debconf: (This frontend requires a controlling tty.)\n",
            "debconf: falling back to frontend: Teletype\n",
            "dpkg-preconfigure: unable to re-open stdin: \n",
            "Selecting previously unselected package pigz.\n",
            "(Reading database ... 121662 files and directories currently installed.)\n",
            "Preparing to unpack .../00-pigz_2.6-1_amd64.deb ...\n",
            "Unpacking pigz (2.6-1) ...\n",
            "Selecting previously unselected package netbase.\n",
            "Preparing to unpack .../01-netbase_6.3_all.deb ...\n",
            "Unpacking netbase (6.3) ...\n",
            "Selecting previously unselected package apparmor.\n",
            "Preparing to unpack .../02-apparmor_3.0.4-2ubuntu2.3_amd64.deb ...\n",
            "Unpacking apparmor (3.0.4-2ubuntu2.3) ...\n",
            "Selecting previously unselected package libip6tc2:amd64.\n",
            "Preparing to unpack .../03-libip6tc2_1.8.7-1ubuntu5.1_amd64.deb ...\n",
            "Unpacking libip6tc2:amd64 (1.8.7-1ubuntu5.1) ...\n"
          ]
        }
      ]
    },
    {
      "cell_type": "code",
      "source": [
        "!docker build --platform linux/arm64 -t ai-tube-robot\n",
        "!docker run -it -p 7860:7860 ai-tube-robot"
      ],
      "metadata": {
        "id": "sqQRW8oXm6yL"
      },
      "execution_count": null,
      "outputs": []
    },
    {
      "cell_type": "markdown",
      "metadata": {
        "id": "pNYOgEm1mklO"
      },
      "source": [
        "### Introduction"
      ]
    },
    {
      "cell_type": "markdown",
      "metadata": {
        "id": "jJZvJAxbmklS"
      },
      "source": [
        "So that now that we have access to docker software,  let's give it a spin.  We can start by using Docker to install a pretty nice blog on our computer.  Let's get started."
      ]
    },
    {
      "cell_type": "markdown",
      "metadata": {
        "id": "KiRpbOenmkle"
      },
      "source": [
        "### Docker Command Line"
      ]
    },
    {
      "cell_type": "markdown",
      "metadata": {
        "id": "Ny1oTG5nmklj"
      },
      "source": [
        "We can make sure that docker is installed, by typing the following:"
      ]
    },
    {
      "cell_type": "markdown",
      "metadata": {
        "id": "waRtcu29mkln"
      },
      "source": [
        "```\n",
        "docker -v\n",
        "Docker version 19.03.12, build 48a66213fe\n",
        "```"
      ]
    },
    {
      "cell_type": "markdown",
      "metadata": {
        "id": "BP-tH3HGmkls"
      },
      "source": [
        "Next, let's let's see if we can install ghost -- a popular blogging platform.  After we get it setup, ghost will look something like the following:"
      ]
    },
    {
      "cell_type": "markdown",
      "metadata": {
        "id": "uCOYF_dImklz"
      },
      "source": [
        "<img src=\"https://github.com/jigsawlabs-student/docker-intro/blob/master/0-docker-intro/ghost-preview.jpg?raw=1\" width=\"40%\">"
      ]
    },
    {
      "cell_type": "markdown",
      "metadata": {
        "id": "aK84pQCgmkl7"
      },
      "source": [
        "The instructions for installing ghost are available on [Dockerhub](https://hub.docker.com/_/ghost).  There, it says to run the following:"
      ]
    },
    {
      "cell_type": "markdown",
      "metadata": {
        "id": "DN7hJUrPmkl_"
      },
      "source": [
        "```\n",
        "docker pull ghost:4.8.0\n",
        "```\n",
        "\n",
        "> The `4.8.0` is to specify the version of ghost we are installing."
      ]
    },
    {
      "cell_type": "markdown",
      "metadata": {
        "id": "8Wq1hi-smkmD"
      },
      "source": [
        "After doing so, you may see something like the following."
      ]
    },
    {
      "cell_type": "markdown",
      "metadata": {
        "id": "XySaU87qmkmF"
      },
      "source": [
        "<img src=\"https://github.com/jigsawlabs-student/docker-intro/blob/master/0-docker-intro/docker-ghost-4.png?raw=1\" width=\"60%\">"
      ]
    },
    {
      "cell_type": "markdown",
      "metadata": {
        "id": "T2v3EcUrmkmH"
      },
      "source": [
        "What you can see above is that docker is ensuring that it installs multiple images.  We'll talk about this in more detail in the next lesson, but for now we can think of each image just as another package of software that we need to run our service."
      ]
    },
    {
      "cell_type": "markdown",
      "metadata": {
        "id": "7w5PrRrymkmK"
      },
      "source": [
        "### Working with Containers"
      ]
    },
    {
      "cell_type": "markdown",
      "metadata": {
        "id": "ho7rNGrymkmM"
      },
      "source": [
        "Ok, so far, we've downloaded the ghost image, whatever that is.  Now let's boot up ghost into a container.  We can do so with the following command:"
      ]
    },
    {
      "cell_type": "markdown",
      "metadata": {
        "id": "Tq1wzs_TmkmN"
      },
      "source": [
        "`docker run ghost:4.8.0`"
      ]
    },
    {
      "cell_type": "markdown",
      "metadata": {
        "id": "t6IAcVyymkmQ"
      },
      "source": [
        "<img src=\"https://github.com/jigsawlabs-student/docker-intro/blob/master/0-docker-intro/booting-ghost.png?raw=1\" width=\"40%\">"
      ]
    },
    {
      "cell_type": "markdown",
      "metadata": {
        "id": "ArxnAbpqmkmT"
      },
      "source": [
        "So it looks like that's doing a lot.  It's creating the tables for our blog, among other things.  At the bottom, we can see the statement `Your site is now available on http://localhost:2368`."
      ]
    },
    {
      "cell_type": "markdown",
      "metadata": {
        "id": "yCujKk47mkmU"
      },
      "source": [
        "<img src=\"https://github.com/jigsawlabs-student/docker-intro/blob/master/0-docker-intro/ghost-terminal.png?raw=1\" width=\"60%\">"
      ]
    },
    {
      "cell_type": "markdown",
      "metadata": {
        "id": "6uZix5aQmkmW"
      },
      "source": [
        "Ok, so let's go to that web address in our browser and take a look."
      ]
    },
    {
      "cell_type": "markdown",
      "metadata": {
        "id": "hQKQGZJwmkmY"
      },
      "source": [
        "<img src=\"https://github.com/jigsawlabs-student/docker-intro/blob/master/0-docker-intro/docker-attempt.png?raw=1\" width=\"60%\">"
      ]
    },
    {
      "cell_type": "markdown",
      "metadata": {
        "id": "p5l0SLD7mkmb"
      },
      "source": [
        "That's a bummer, but it has an easy fix.  This time, let's shut down own container by pressing `ctl+c` in our terminal."
      ]
    },
    {
      "cell_type": "markdown",
      "metadata": {
        "id": "wEWxaPR7mkmc"
      },
      "source": [
        "<img src=\"https://github.com/jigsawlabs-student/docker-intro/blob/master/0-docker-intro/ending-ghost.png?raw=1\" width=\"60%\">"
      ]
    },
    {
      "cell_type": "markdown",
      "metadata": {
        "id": "lQxQjuHamkmd"
      },
      "source": [
        "And then re-running our container, this time updating our command to the following:\n",
        "\n",
        "`docker run -p 8080:2368 ghost:4.8.0`"
      ]
    },
    {
      "cell_type": "markdown",
      "metadata": {
        "id": "l62gjH4Vmkmf"
      },
      "source": [
        "<img src=\"https://github.com/jigsawlabs-student/docker-intro/blob/master/0-docker-intro/working-ghost.png?raw=1\" width=\"60%\">"
      ]
    },
    {
      "cell_type": "markdown",
      "metadata": {
        "id": "TIRS4hJFmkmi"
      },
      "source": [
        "Then go to `localhost:8080` and we'll see our fully functional blogging platform."
      ]
    },
    {
      "cell_type": "markdown",
      "metadata": {
        "id": "LGAlR0-Umkmk"
      },
      "source": [
        "## Time for the Questions"
      ]
    },
    {
      "cell_type": "markdown",
      "metadata": {
        "id": "n7sls45imkmm"
      },
      "source": [
        "At this point, we have just a bit of knowledge about Docker.  Perhaps enough knowledge to piece together some questions.  Let's try."
      ]
    },
    {
      "cell_type": "markdown",
      "metadata": {
        "id": "bIR1ApV1mkmo"
      },
      "source": [
        "1. Images\n",
        "\n",
        "It sounds like we used an image to download our software.  But we're still not quite sure what an image is.  Also, when we initially pulled our image, we saw the following:"
      ]
    },
    {
      "cell_type": "markdown",
      "metadata": {
        "id": "WEjnOckgmkmq"
      },
      "source": [
        "<img src=\"https://github.com/jigsawlabs-student/docker-intro/blob/master/0-docker-intro/docker-ghost-4.png?raw=1\" width=\"70%\">"
      ]
    },
    {
      "cell_type": "markdown",
      "metadata": {
        "id": "Lo43vAj6mkms"
      },
      "source": [
        "Each of these ids to the left is identifying another image used for ghost.  So we have images inside of our image?  Yes.  We'll learn why.\n",
        "\n",
        "2. Containers\n",
        "\n",
        "It sounds like we run an image by booting up a container.  But how does a container relate to an image?  \n",
        "\n",
        "3. Isolation\n",
        "\n",
        "When we ran our container the first time with `docker run ghost` at the bottom of the terminal, it said our website was available at `localhost:2368`.  But really, our website was inaccessible until we updated our command to the following:\n",
        "\n",
        "`docker run -p 8080:2368 ghost:4.8.0`\n",
        "\n",
        "Docker was initially isolating the container from the rest of our computer, and then we asked Docker to expose a part of this container (it's port) to `8080`.  Only then could we see our website.  We'll learn about how Docker isolates our environments and why it's important."
      ]
    },
    {
      "cell_type": "markdown",
      "metadata": {
        "id": "eMSAghQTmkmu"
      },
      "source": [
        "But we'll leave all of these questions for the next lesson."
      ]
    },
    {
      "cell_type": "markdown",
      "metadata": {
        "id": "3zYO0zF0mkmv"
      },
      "source": [
        "### Resources\n",
        "[Docker for Windows](https://towardsdatascience.com/make-your-data-science-life-easy-with-docker-c3e1fc0dee59)"
      ]
    },
    {
      "cell_type": "markdown",
      "metadata": {
        "id": "LrPKYrM1mkmy"
      },
      "source": [
        "[Docker Curriculum](https://docker-curriculum.com/)"
      ]
    }
  ],
  "metadata": {
    "kernelspec": {
      "display_name": "Python 3 (ipykernel)",
      "language": "python",
      "name": "python3"
    },
    "language_info": {
      "codemirror_mode": {
        "name": "ipython",
        "version": 3
      },
      "file_extension": ".py",
      "mimetype": "text/x-python",
      "name": "python",
      "nbconvert_exporter": "python",
      "pygments_lexer": "ipython3",
      "version": "3.10.6"
    },
    "colab": {
      "provenance": [],
      "include_colab_link": true
    }
  },
  "nbformat": 4,
  "nbformat_minor": 0
}